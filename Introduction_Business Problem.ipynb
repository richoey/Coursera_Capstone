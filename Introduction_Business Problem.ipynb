{
 "cells": [
  {
   "cell_type": "markdown",
   "id": "6f4cbffa-f853-4dde-91bf-6e489c6d326b",
   "metadata": {},
   "source": [
    "## Introduction"
   ]
  },
  {
   "cell_type": "markdown",
   "id": "29ddd70a-6487-4a42-9461-e282af7a71ac",
   "metadata": {},
   "source": [
    "As the largest city in the UK, London is home to one of the most ethnically diverse populations in the world. From India to Jamaica to Ghana and many more countries, the world is truly represented in this vibrant area. Approximately one-third of Londoners are foreign-born, and even though the official language is English, the lively streets are brimming with global languages – well over 200 languages are spoken. While many people have chosen London as their new home, they still have a love for their culture and share it in many ways, including delicious food\n",
    "\n",
    "This variety of ethnics are also reflected to the variety of restaurants that we can find in London. In this project, we will perform clustering of different areas of London based on the type of restaurants that are popular in that area. It can be used as a culinary guide map for Tourists as well as foreign-born locals who crave for a certain type of cuisine"
   ]
  },
  {
   "cell_type": "code",
   "execution_count": null,
   "id": "83ad5e67-56b2-4e3a-bd4c-033d6edcf886",
   "metadata": {},
   "outputs": [],
   "source": []
  }
 ],
 "metadata": {
  "kernelspec": {
   "display_name": "Python",
   "language": "python",
   "name": "conda-env-python-py"
  },
  "language_info": {
   "codemirror_mode": {
    "name": "ipython",
    "version": 3
   },
   "file_extension": ".py",
   "mimetype": "text/x-python",
   "name": "python",
   "nbconvert_exporter": "python",
   "pygments_lexer": "ipython3",
   "version": "3.6.13"
  }
 },
 "nbformat": 4,
 "nbformat_minor": 5
}
