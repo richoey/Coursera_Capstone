{
 "cells": [
  {
   "cell_type": "markdown",
   "id": "3749ccf3-b6d1-42a4-b899-2743dfd51c69",
   "metadata": {},
   "source": [
    "## Data Description"
   ]
  },
  {
   "cell_type": "markdown",
   "id": "331137e4-00b9-4c84-8752-e5390335e5fb",
   "metadata": {},
   "source": [
    "Two different datasets will be used. They are the datasets of different districts and locations in London and the type of restaurants that we can find in each location/district.\n",
    "For the first dataset, We will be using a Wikipedia page. For the second dataset, we will use restaurants information from Foursquare.com"
   ]
  },
  {
   "cell_type": "code",
   "execution_count": null,
   "id": "f0ceab55-da8b-4dd6-8396-17fd64a8fd44",
   "metadata": {},
   "outputs": [],
   "source": []
  }
 ],
 "metadata": {
  "kernelspec": {
   "display_name": "Python",
   "language": "python",
   "name": "conda-env-python-py"
  },
  "language_info": {
   "codemirror_mode": {
    "name": "ipython",
    "version": 3
   },
   "file_extension": ".py",
   "mimetype": "text/x-python",
   "name": "python",
   "nbconvert_exporter": "python",
   "pygments_lexer": "ipython3",
   "version": "3.6.13"
  }
 },
 "nbformat": 4,
 "nbformat_minor": 5
}
